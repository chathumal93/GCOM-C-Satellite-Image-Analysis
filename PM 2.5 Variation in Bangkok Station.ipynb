{
 "cells": [
  {
   "cell_type": "markdown",
   "metadata": {},
   "source": [
    "special credits :  https://github.com/worasom/aqi_thailand"
   ]
  },
  {
   "cell_type": "code",
   "execution_count": 13,
   "metadata": {},
   "outputs": [],
   "source": [
    "import sys\n",
    "from pathlib import Path\n",
    "import seaborn as sns\n",
    "import pandas as pd\n",
    "import statsmodels.api as sm\n",
    "import datetime \n",
    "import matplotlib.dates as mdates\n",
    "import matplotlib as mpl\n",
    "from matplotlib.gridspec import GridSpec\n",
    "import matplotlib.pyplot as plt\n",
    "from statsmodels.sandbox.regression.predstd import wls_prediction_std\n",
    "from mpl_toolkits.axes_grid1.axes_divider import make_axes_locatable\n",
    "from mpl_toolkits.axes_grid1.colorbar import colorbar"
   ]
  },
  {
   "cell_type": "code",
   "execution_count": 14,
   "metadata": {},
   "outputs": [
    {
     "name": "stdout",
     "output_type": "stream",
     "text": [
      "% Country: Thailand\n",
      "\n",
      "% City: Bangkok\n",
      "\n",
      "% City (ASCII): Bangkok\n",
      "\n",
      "% Region: Bangkok\n",
      "\n",
      "% Region (ASCII): Bangkok\n",
      "\n",
      "% Population: 5104476\n",
      "\n",
      "% Latitude: 13.754\n",
      "\n",
      "% Longitude: 100.5014\n",
      "\n",
      "% Time Zone: Asia/Bangkok\n",
      "\n",
      "% Year, Month, Day, UTC Hour, PM2.5, PM10_mask, Retrospective\n",
      "\n",
      "2016\t3\t3\t8\t62.9\t1.00\t0\n",
      "\n",
      "2016\t3\t3\t9\t62.9\t1.00\t0\n",
      "\n"
     ]
    }
   ],
   "source": [
    "#inspecting the top of the files \n",
    "with open('data/Bangkok.txt','r') as f:\n",
    "    for i in range(12):\n",
    "        print(f.readline())"
   ]
  },
  {
   "cell_type": "code",
   "execution_count": 15,
   "metadata": {
    "scrolled": false
   },
   "outputs": [
    {
     "data": {
      "text/html": [
       "<div>\n",
       "<style scoped>\n",
       "    .dataframe tbody tr th:only-of-type {\n",
       "        vertical-align: middle;\n",
       "    }\n",
       "\n",
       "    .dataframe tbody tr th {\n",
       "        vertical-align: top;\n",
       "    }\n",
       "\n",
       "    .dataframe thead th {\n",
       "        text-align: right;\n",
       "    }\n",
       "</style>\n",
       "<table border=\"1\" class=\"dataframe\">\n",
       "  <thead>\n",
       "    <tr style=\"text-align: right;\">\n",
       "      <th></th>\n",
       "      <th>0</th>\n",
       "      <th>1</th>\n",
       "      <th>2</th>\n",
       "      <th>3</th>\n",
       "      <th>4</th>\n",
       "      <th>5</th>\n",
       "      <th>6</th>\n",
       "    </tr>\n",
       "  </thead>\n",
       "  <tbody>\n",
       "    <tr>\n",
       "      <td>0</td>\n",
       "      <td>2016</td>\n",
       "      <td>3</td>\n",
       "      <td>3</td>\n",
       "      <td>8</td>\n",
       "      <td>62.9</td>\n",
       "      <td>1.0</td>\n",
       "      <td>0</td>\n",
       "    </tr>\n",
       "    <tr>\n",
       "      <td>1</td>\n",
       "      <td>2016</td>\n",
       "      <td>3</td>\n",
       "      <td>3</td>\n",
       "      <td>9</td>\n",
       "      <td>62.9</td>\n",
       "      <td>1.0</td>\n",
       "      <td>0</td>\n",
       "    </tr>\n",
       "    <tr>\n",
       "      <td>2</td>\n",
       "      <td>2016</td>\n",
       "      <td>3</td>\n",
       "      <td>3</td>\n",
       "      <td>10</td>\n",
       "      <td>55.5</td>\n",
       "      <td>1.0</td>\n",
       "      <td>0</td>\n",
       "    </tr>\n",
       "    <tr>\n",
       "      <td>3</td>\n",
       "      <td>2016</td>\n",
       "      <td>3</td>\n",
       "      <td>3</td>\n",
       "      <td>11</td>\n",
       "      <td>55.5</td>\n",
       "      <td>1.0</td>\n",
       "      <td>0</td>\n",
       "    </tr>\n",
       "    <tr>\n",
       "      <td>4</td>\n",
       "      <td>2016</td>\n",
       "      <td>3</td>\n",
       "      <td>3</td>\n",
       "      <td>12</td>\n",
       "      <td>47.9</td>\n",
       "      <td>1.0</td>\n",
       "      <td>0</td>\n",
       "    </tr>\n",
       "  </tbody>\n",
       "</table>\n",
       "</div>"
      ],
      "text/plain": [
       "      0  1  2   3     4    5  6\n",
       "0  2016  3  3   8  62.9  1.0  0\n",
       "1  2016  3  3   9  62.9  1.0  0\n",
       "2  2016  3  3  10  55.5  1.0  0\n",
       "3  2016  3  3  11  55.5  1.0  0\n",
       "4  2016  3  3  12  47.9  1.0  0"
      ]
     },
     "execution_count": 15,
     "metadata": {},
     "output_type": "execute_result"
    }
   ],
   "source": [
    "#load bangkok data\n",
    "pm25 = pd.read_csv('data/Bangkok.txt', sep='\\t', \n",
    "                   header=None, skiprows=10)\n",
    "pm25.head()"
   ]
  },
  {
   "cell_type": "code",
   "execution_count": 16,
   "metadata": {
    "scrolled": true
   },
   "outputs": [],
   "source": [
    "#assemble datetime column \n",
    "pm25['Time'] = pd.to_datetime({'year': pm25[0], 'month': pm25[1], 'day':pm25[2],'hour': pm25[3]})\n",
    "#convert to Bangkok time zone and remove the time zone information\n",
    "pm25['Time'] = pm25['Time'].dt.tz_localize('UTC').dt.tz_convert('Asia/Bangkok')\n",
    "pm25['Time'] = pm25['Time'].dt.tz_localize(None)\n",
    "# drop Year, month, day, UTC hours, PM10_mask columns\n",
    "pm25=pm25.drop([0,1,2,3,5,6],axis=1)\n",
    "pm25.columns = ['PM2.5', 'Time']\n"
   ]
  },
  {
   "cell_type": "code",
   "execution_count": 17,
   "metadata": {
    "scrolled": true
   },
   "outputs": [],
   "source": [
    "# save the fie\n",
    "pm25[['Time','PM2.5']].to_csv('data/bangkok/bkk_pm25.csv',index=False)"
   ]
  },
  {
   "cell_type": "code",
   "execution_count": 18,
   "metadata": {
    "scrolled": true
   },
   "outputs": [
    {
     "data": {
      "text/html": [
       "<div>\n",
       "<style scoped>\n",
       "    .dataframe tbody tr th:only-of-type {\n",
       "        vertical-align: middle;\n",
       "    }\n",
       "\n",
       "    .dataframe tbody tr th {\n",
       "        vertical-align: top;\n",
       "    }\n",
       "\n",
       "    .dataframe thead th {\n",
       "        text-align: right;\n",
       "    }\n",
       "</style>\n",
       "<table border=\"1\" class=\"dataframe\">\n",
       "  <thead>\n",
       "    <tr style=\"text-align: right;\">\n",
       "      <th></th>\n",
       "      <th>Time</th>\n",
       "      <th>PM2.5</th>\n",
       "    </tr>\n",
       "  </thead>\n",
       "  <tbody>\n",
       "    <tr>\n",
       "      <td>0</td>\n",
       "      <td>2016-03-03 15:00:00</td>\n",
       "      <td>62.9</td>\n",
       "    </tr>\n",
       "    <tr>\n",
       "      <td>1</td>\n",
       "      <td>2016-03-03 16:00:00</td>\n",
       "      <td>62.9</td>\n",
       "    </tr>\n",
       "    <tr>\n",
       "      <td>2</td>\n",
       "      <td>2016-03-03 17:00:00</td>\n",
       "      <td>55.5</td>\n",
       "    </tr>\n",
       "    <tr>\n",
       "      <td>3</td>\n",
       "      <td>2016-03-03 18:00:00</td>\n",
       "      <td>55.5</td>\n",
       "    </tr>\n",
       "    <tr>\n",
       "      <td>4</td>\n",
       "      <td>2016-03-03 19:00:00</td>\n",
       "      <td>47.9</td>\n",
       "    </tr>\n",
       "  </tbody>\n",
       "</table>\n",
       "</div>"
      ],
      "text/plain": [
       "                 Time  PM2.5\n",
       "0 2016-03-03 15:00:00   62.9\n",
       "1 2016-03-03 16:00:00   62.9\n",
       "2 2016-03-03 17:00:00   55.5\n",
       "3 2016-03-03 18:00:00   55.5\n",
       "4 2016-03-03 19:00:00   47.9"
      ]
     },
     "execution_count": 18,
     "metadata": {},
     "output_type": "execute_result"
    }
   ],
   "source": [
    "# load the data\n",
    "bkk = pd.read_csv('data/bangkok/bkk_pm25.csv')\n",
    "bkk['Time'] = pd.to_datetime(bkk['Time'])\n",
    "bkk.head()"
   ]
  },
  {
   "cell_type": "code",
   "execution_count": 19,
   "metadata": {
    "scrolled": false
   },
   "outputs": [
    {
     "name": "stdout",
     "output_type": "stream",
     "text": [
      "<class 'pandas.core.frame.DataFrame'>\n",
      "RangeIndex: 30957 entries, 0 to 30956\n",
      "Data columns (total 2 columns):\n",
      "Time     30957 non-null datetime64[ns]\n",
      "PM2.5    30957 non-null float64\n",
      "dtypes: datetime64[ns](1), float64(1)\n",
      "memory usage: 483.8 KB\n"
     ]
    }
   ],
   "source": [
    "bkk.info()"
   ]
  },
  {
   "cell_type": "code",
   "execution_count": 20,
   "metadata": {},
   "outputs": [],
   "source": [
    "# rolling average over 24 hours window\n",
    "bkk['PM2.5avg'] = bkk['PM2.5'].rolling(24).mean()\n",
    "bkk = bkk.dropna()"
   ]
  },
  {
   "cell_type": "code",
   "execution_count": null,
   "metadata": {},
   "outputs": [],
   "source": []
  },
  {
   "cell_type": "code",
   "execution_count": 21,
   "metadata": {},
   "outputs": [],
   "source": [
    "pm25 = bkk.set_index('Time')"
   ]
  },
  {
   "cell_type": "code",
   "execution_count": 22,
   "metadata": {},
   "outputs": [],
   "source": [
    "# add datetime feature\n",
    "pm25['Year'] = pm25.index.year\n",
    "pm25['Month'] = pm25.index.strftime('%B')\n",
    "pm25['DayofMonth'] = pm25.index.day\n",
    "pm25['DayofWeek'] = pm25.index.strftime('%A')\n",
    "pm25['TimeofDay'] = pm25.index.time\n",
    "pm25['is_weekend'] = 'weekday'\n",
    "pm25.loc[pm25['DayofWeek'].isin(['Saturday','Sunday']),'is_weekend'] ='weekend'\n",
    "pm25['month-year'] = pm25.index.strftime('%b-%Y')\n",
    "\n",
    "# put the data into level and color based on the PM2.5 reading for easy visualization\n",
    "pm25['level'] = pd.cut(pm25['PM2.5avg'],bins = [0, 35.5, 55.5, 150.4], \n",
    "                       labels=['satisfactory', 'moderate','unhealthy'],\n",
    "                      include_lowest=True, right=False)\n",
    "pm25['color'] = pd.cut(pm25['PM2.5avg'],bins = [0, 35.5, 55.5, 150.4], \n",
    "                       labels=['green', 'orange','red'])\n",
    "\n",
    "pm25['season'] = 'other\\nseasons'\n",
    "\n",
    "pm25.loc['2016-09':'2017-05','season'] = 'winter\\n2016-2017'\n",
    "pm25.loc['2017-09':'2018-05','season'] = 'winter\\n2017-2018'\n",
    "pm25.loc['2018-09':'2019-05','season'] = 'winter\\n2018-2019'"
   ]
  },
  {
   "cell_type": "code",
   "execution_count": 23,
   "metadata": {
    "scrolled": true
   },
   "outputs": [
    {
     "name": "stdout",
     "output_type": "stream",
     "text": [
      "<class 'pandas.core.frame.DataFrame'>\n",
      "DatetimeIndex: 30934 entries, 2016-03-04 15:00:00 to 2020-03-11 00:00:00\n",
      "Data columns (total 12 columns):\n",
      "PM2.5         30934 non-null float64\n",
      "PM2.5avg      30934 non-null float64\n",
      "Year          30934 non-null int64\n",
      "Month         30934 non-null object\n",
      "DayofMonth    30934 non-null int64\n",
      "DayofWeek     30934 non-null object\n",
      "TimeofDay     30934 non-null object\n",
      "is_weekend    30934 non-null object\n",
      "month-year    30934 non-null object\n",
      "level         30934 non-null category\n",
      "color         30934 non-null category\n",
      "season        30934 non-null object\n",
      "dtypes: category(2), float64(2), int64(2), object(6)\n",
      "memory usage: 3.9+ MB\n"
     ]
    }
   ],
   "source": [
    "pm25.info()"
   ]
  },
  {
   "cell_type": "code",
   "execution_count": 38,
   "metadata": {},
   "outputs": [],
   "source": [
    "# save the data\n",
    "pm25_sec19 = pm25.loc['2019-01-01 01:00:00':'2019-12-31 00:00:00']\n",
    "pm25_sec18 = pm25.loc['2018-01-01 01:00:00':'2018-12-31 00:00:00']\n",
    "pm25_secfield = pm25.loc['2019-12-01 01:00:00':'2020-02-29 00:00:00']\n",
    "pm25_sec1819 = pm25.loc['2018-01-01 01:00:00':'2019-12-31 00:00:00']\n",
    "#pm25.to_csv('data/bangkok/bkk_pm25_proc.csv')\n",
    "pm25_sec19.to_csv('data/bangkok/bkk_pm25_sec19.csv')\n",
    "pm25_sec18.to_csv('data/bangkok/bkk_pm25_sec18.csv')\n",
    "pm25_secfield.to_csv('data/bangkok/bkk_pm25_secfield.csv')\n",
    "pm25_sec1819.to_csv('data/bangkok/bkk_pm25_sec1819.csv')"
   ]
  },
  {
   "cell_type": "code",
   "execution_count": 39,
   "metadata": {},
   "outputs": [],
   "source": [
    "#load the data and change time columne to datetime index\n",
    "\n",
    "pm25_sec19 = pd.read_csv('data/bangkok/bkk_pm25_sec19.csv')\n",
    "pm25_sec19['Time'] = pd.to_datetime(pm25_sec19['Time'])\n",
    "pm25_sec19 = pm25_sec19.set_index('Time')\n",
    "\n",
    "pm25_sec18 = pd.read_csv('data/bangkok/bkk_pm25_sec18.csv')\n",
    "pm25_sec18['Time'] = pd.to_datetime(pm25_sec18['Time'])\n",
    "pm25_sec18 = pm25_sec18.set_index('Time')\n",
    "\n",
    "pm25_secfield = pd.read_csv('data/bangkok/bkk_pm25_secfield.csv')\n",
    "pm25_secfield['Time'] = pd.to_datetime(pm25_secfield['Time'])\n",
    "pm25_secfield = pm25_secfield.set_index('Time')\n",
    "\n",
    "pm25_sec1819 = pd.read_csv('data/bangkok/bkk_pm25_sec1819.csv')\n",
    "pm25_sec1819['Time'] = pd.to_datetime(pm25_sec1819['Time'])\n",
    "pm25_sec1819 = pm25_sec1819.set_index('Time')"
   ]
  },
  {
   "cell_type": "code",
   "execution_count": 59,
   "metadata": {
    "scrolled": true
   },
   "outputs": [
    {
     "data": {
      "text/html": [
       "<div>\n",
       "<style scoped>\n",
       "    .dataframe tbody tr th:only-of-type {\n",
       "        vertical-align: middle;\n",
       "    }\n",
       "\n",
       "    .dataframe tbody tr th {\n",
       "        vertical-align: top;\n",
       "    }\n",
       "\n",
       "    .dataframe thead th {\n",
       "        text-align: right;\n",
       "    }\n",
       "</style>\n",
       "<table border=\"1\" class=\"dataframe\">\n",
       "  <thead>\n",
       "    <tr style=\"text-align: right;\">\n",
       "      <th></th>\n",
       "      <th>PM2.5</th>\n",
       "      <th>PM2.5avg</th>\n",
       "      <th>Year</th>\n",
       "      <th>Month</th>\n",
       "      <th>DayofMonth</th>\n",
       "      <th>DayofWeek</th>\n",
       "      <th>TimeofDay</th>\n",
       "      <th>is_weekend</th>\n",
       "      <th>month-year</th>\n",
       "      <th>level</th>\n",
       "      <th>color</th>\n",
       "      <th>season</th>\n",
       "    </tr>\n",
       "    <tr>\n",
       "      <th>Time</th>\n",
       "      <th></th>\n",
       "      <th></th>\n",
       "      <th></th>\n",
       "      <th></th>\n",
       "      <th></th>\n",
       "      <th></th>\n",
       "      <th></th>\n",
       "      <th></th>\n",
       "      <th></th>\n",
       "      <th></th>\n",
       "      <th></th>\n",
       "      <th></th>\n",
       "    </tr>\n",
       "  </thead>\n",
       "  <tbody>\n",
       "    <tr>\n",
       "      <td>2019-12-01 01:00:00</td>\n",
       "      <td>23.7</td>\n",
       "      <td>23.237500</td>\n",
       "      <td>2019</td>\n",
       "      <td>December</td>\n",
       "      <td>1</td>\n",
       "      <td>Sunday</td>\n",
       "      <td>01:00:00</td>\n",
       "      <td>weekend</td>\n",
       "      <td>Dec-2019</td>\n",
       "      <td>satisfactory</td>\n",
       "      <td>green</td>\n",
       "      <td>other\\nseasons</td>\n",
       "    </tr>\n",
       "    <tr>\n",
       "      <td>2019-12-01 02:00:00</td>\n",
       "      <td>24.3</td>\n",
       "      <td>22.654167</td>\n",
       "      <td>2019</td>\n",
       "      <td>December</td>\n",
       "      <td>1</td>\n",
       "      <td>Sunday</td>\n",
       "      <td>02:00:00</td>\n",
       "      <td>weekend</td>\n",
       "      <td>Dec-2019</td>\n",
       "      <td>satisfactory</td>\n",
       "      <td>green</td>\n",
       "      <td>other\\nseasons</td>\n",
       "    </tr>\n",
       "    <tr>\n",
       "      <td>2019-12-01 03:00:00</td>\n",
       "      <td>25.2</td>\n",
       "      <td>22.075000</td>\n",
       "      <td>2019</td>\n",
       "      <td>December</td>\n",
       "      <td>1</td>\n",
       "      <td>Sunday</td>\n",
       "      <td>03:00:00</td>\n",
       "      <td>weekend</td>\n",
       "      <td>Dec-2019</td>\n",
       "      <td>satisfactory</td>\n",
       "      <td>green</td>\n",
       "      <td>other\\nseasons</td>\n",
       "    </tr>\n",
       "    <tr>\n",
       "      <td>2019-12-01 04:00:00</td>\n",
       "      <td>25.5</td>\n",
       "      <td>21.537500</td>\n",
       "      <td>2019</td>\n",
       "      <td>December</td>\n",
       "      <td>1</td>\n",
       "      <td>Sunday</td>\n",
       "      <td>04:00:00</td>\n",
       "      <td>weekend</td>\n",
       "      <td>Dec-2019</td>\n",
       "      <td>satisfactory</td>\n",
       "      <td>green</td>\n",
       "      <td>other\\nseasons</td>\n",
       "    </tr>\n",
       "    <tr>\n",
       "      <td>2019-12-01 05:00:00</td>\n",
       "      <td>25.1</td>\n",
       "      <td>21.241667</td>\n",
       "      <td>2019</td>\n",
       "      <td>December</td>\n",
       "      <td>1</td>\n",
       "      <td>Sunday</td>\n",
       "      <td>05:00:00</td>\n",
       "      <td>weekend</td>\n",
       "      <td>Dec-2019</td>\n",
       "      <td>satisfactory</td>\n",
       "      <td>green</td>\n",
       "      <td>other\\nseasons</td>\n",
       "    </tr>\n",
       "  </tbody>\n",
       "</table>\n",
       "</div>"
      ],
      "text/plain": [
       "                     PM2.5   PM2.5avg  Year     Month  DayofMonth DayofWeek  \\\n",
       "Time                                                                          \n",
       "2019-12-01 01:00:00   23.7  23.237500  2019  December           1    Sunday   \n",
       "2019-12-01 02:00:00   24.3  22.654167  2019  December           1    Sunday   \n",
       "2019-12-01 03:00:00   25.2  22.075000  2019  December           1    Sunday   \n",
       "2019-12-01 04:00:00   25.5  21.537500  2019  December           1    Sunday   \n",
       "2019-12-01 05:00:00   25.1  21.241667  2019  December           1    Sunday   \n",
       "\n",
       "                    TimeofDay is_weekend month-year         level  color  \\\n",
       "Time                                                                       \n",
       "2019-12-01 01:00:00  01:00:00    weekend   Dec-2019  satisfactory  green   \n",
       "2019-12-01 02:00:00  02:00:00    weekend   Dec-2019  satisfactory  green   \n",
       "2019-12-01 03:00:00  03:00:00    weekend   Dec-2019  satisfactory  green   \n",
       "2019-12-01 04:00:00  04:00:00    weekend   Dec-2019  satisfactory  green   \n",
       "2019-12-01 05:00:00  05:00:00    weekend   Dec-2019  satisfactory  green   \n",
       "\n",
       "                             season  \n",
       "Time                                 \n",
       "2019-12-01 01:00:00  other\\nseasons  \n",
       "2019-12-01 02:00:00  other\\nseasons  \n",
       "2019-12-01 03:00:00  other\\nseasons  \n",
       "2019-12-01 04:00:00  other\\nseasons  \n",
       "2019-12-01 05:00:00  other\\nseasons  "
      ]
     },
     "execution_count": 59,
     "metadata": {},
     "output_type": "execute_result"
    }
   ],
   "source": [
    "pm25_secfield.head()"
   ]
  },
  {
   "cell_type": "code",
   "execution_count": 41,
   "metadata": {},
   "outputs": [
    {
     "data": {
      "text/plain": [
       "array(['moderate', 'satisfactory', 'unhealthy'], dtype='<U12')"
      ]
     },
     "execution_count": 41,
     "metadata": {},
     "output_type": "execute_result"
    }
   ],
   "source": [
    "# check if the data contains all levels\n",
    "pm25_sec19['level'].unique().astype(str)"
   ]
  },
  {
   "cell_type": "code",
   "execution_count": 44,
   "metadata": {},
   "outputs": [
    {
     "data": {
      "text/plain": [
       "Text(0.5, 1.0, 'PM2.5 level in Bangkok ($\\\\mu$g/m$^3$)')"
      ]
     },
     "execution_count": 44,
     "metadata": {},
     "output_type": "execute_result"
    },
    {
     "data": {
      "image/png": "[encoded data removed]",
      "text/plain": [
       "<Figure size 720x432 with 1 Axes>"
      ]
     },
     "metadata": {
      "needs_background": "light"
     },
     "output_type": "display_data"
    }
   ],
   "source": [
    "fig1 = plt.figure(figsize=(10, 6))\n",
    "\n",
    "\n",
    "# make legend and plot each level at a time \n",
    "# Each level has to be plotted separtely to generate proper legend\n",
    "for legend in ['satisfactory', 'moderate', 'unhealthy']:\n",
    "    temp = pm25_secfield[pm25_secfield['level']==legend]\n",
    "    #plot the data for each pollution level\n",
    "    plt.scatter(temp.index, temp['PM2.5avg'], \n",
    "               c=temp['color'], marker='.', label=legend)\n",
    "\n",
    "plt.legend(loc='upper right')\n",
    "plt.title(\"PM2.5 level in Bangkok ($\\mu$g/m$^3$)\")\n"
   ]
  },
  {
   "cell_type": "code",
   "execution_count": 45,
   "metadata": {},
   "outputs": [],
   "source": [
    "fig1.savefig('C:\\\\Users\\\\chath\\\\Desktop\\\\figouts\\\\bkk_fielddate.png')"
   ]
  },
  {
   "cell_type": "markdown",
   "metadata": {},
   "source": [
    "**monthly avg analysis**"
   ]
  },
  {
   "cell_type": "code",
   "execution_count": 59,
   "metadata": {},
   "outputs": [
    {
     "name": "stdout",
     "output_type": "stream",
     "text": [
      "<class 'pandas.core.frame.DataFrame'>\n",
      "RangeIndex: 1516 entries, 0 to 1515\n",
      "Data columns (total 13 columns):\n",
      "Time          1516 non-null object\n",
      "PM2.5         1516 non-null float64\n",
      "PM2.5avg      1516 non-null float64\n",
      "Year          1516 non-null int64\n",
      "Month         1516 non-null object\n",
      "DayofMonth    1516 non-null int64\n",
      "DayofWeek     1516 non-null object\n",
      "TimeofDay     1516 non-null object\n",
      "is_weekend    1516 non-null object\n",
      "month-year    1516 non-null object\n",
      "level         1516 non-null object\n",
      "color         1516 non-null object\n",
      "season        1516 non-null object\n",
      "dtypes: float64(2), int64(2), object(9)\n",
      "memory usage: 154.1+ KB\n"
     ]
    }
   ],
   "source": [
    "pm25_sel_decmar.info()"
   ]
  },
  {
   "cell_type": "code",
   "execution_count": 54,
   "metadata": {},
   "outputs": [
    {
     "data": {
      "text/plain": [
       "'dec2019march20 = date_month_2019.tail(1).append(date_month_2020)\\nmonth_name1=pd.date_range(\\'2019-12\\',\\'2020-03\\', freq=\\'MS\\').strftime(\"%B\").tolist()\\ndec2019march20 = date_month_2020.reindex(month_name1)\\ndec2019march20 '"
      ]
     },
     "execution_count": 54,
     "metadata": {},
     "output_type": "execute_result"
    }
   ],
   "source": [
    "import numpy as np\n",
    "pm25_sec18_2018 = pm25_sec18['2018']\n",
    "pm25_sec19_2019 = pm25_sec19['2019']\n",
    "\n",
    "\n",
    "\n",
    "# make a cross table with month as index, and day of month as columns\n",
    "date_month_2018 = pd.crosstab(pm25_sec18_2018['Month'], pm25_sec18_2018['DayofMonth'], pm25_sec18_2018['PM2.5avg'], aggfunc=np.mean)\n",
    "month_name18=pd.date_range('2018-01','2018-12', freq='MS').strftime(\"%B\").tolist()\n",
    "date_month_2018 = date_month_2018.reindex(month_name18)\n",
    "\n",
    "\n",
    "date_month_2019 = pd.crosstab(pm25_sec19_2019['Month'], pm25_sec19_2019['DayofMonth'], pm25_sec19_2019['PM2.5avg'], aggfunc=np.mean)\n",
    "month_name19=pd.date_range('2019-01','2019-12', freq='MS').strftime(\"%B\").tolist()\n",
    "date_month_2019 = date_month_2019.reindex(month_name19)\n",
    "\n",
    "\n"
   ]
  },
  {
   "cell_type": "code",
   "execution_count": 78,
   "metadata": {},
   "outputs": [
    {
     "data": {
      "text/html": [
       "<div>\n",
       "<style scoped>\n",
       "    .dataframe tbody tr th:only-of-type {\n",
       "        vertical-align: middle;\n",
       "    }\n",
       "\n",
       "    .dataframe tbody tr th {\n",
       "        vertical-align: top;\n",
       "    }\n",
       "\n",
       "    .dataframe thead th {\n",
       "        text-align: right;\n",
       "    }\n",
       "</style>\n",
       "<table border=\"1\" class=\"dataframe\">\n",
       "  <thead>\n",
       "    <tr style=\"text-align: right;\">\n",
       "      <th>DayofMonth</th>\n",
       "      <th>1</th>\n",
       "      <th>2</th>\n",
       "      <th>3</th>\n",
       "      <th>4</th>\n",
       "      <th>5</th>\n",
       "      <th>6</th>\n",
       "      <th>7</th>\n",
       "      <th>8</th>\n",
       "      <th>9</th>\n",
       "      <th>10</th>\n",
       "      <th>...</th>\n",
       "      <th>22</th>\n",
       "      <th>23</th>\n",
       "      <th>24</th>\n",
       "      <th>25</th>\n",
       "      <th>26</th>\n",
       "      <th>27</th>\n",
       "      <th>28</th>\n",
       "      <th>29</th>\n",
       "      <th>30</th>\n",
       "      <th>31</th>\n",
       "    </tr>\n",
       "    <tr>\n",
       "      <th>Month</th>\n",
       "      <th></th>\n",
       "      <th></th>\n",
       "      <th></th>\n",
       "      <th></th>\n",
       "      <th></th>\n",
       "      <th></th>\n",
       "      <th></th>\n",
       "      <th></th>\n",
       "      <th></th>\n",
       "      <th></th>\n",
       "      <th></th>\n",
       "      <th></th>\n",
       "      <th></th>\n",
       "      <th></th>\n",
       "      <th></th>\n",
       "      <th></th>\n",
       "      <th></th>\n",
       "      <th></th>\n",
       "      <th></th>\n",
       "      <th></th>\n",
       "      <th></th>\n",
       "    </tr>\n",
       "  </thead>\n",
       "  <tbody>\n",
       "    <tr>\n",
       "      <td>December</td>\n",
       "      <td>21.873007</td>\n",
       "      <td>22.879514</td>\n",
       "      <td>17.998090</td>\n",
       "      <td>27.684375</td>\n",
       "      <td>32.351326</td>\n",
       "      <td>36.848785</td>\n",
       "      <td>35.526215</td>\n",
       "      <td>39.757609</td>\n",
       "      <td>43.062292</td>\n",
       "      <td>46.683333</td>\n",
       "      <td>...</td>\n",
       "      <td>35.670455</td>\n",
       "      <td>32.675174</td>\n",
       "      <td>31.512674</td>\n",
       "      <td>32.694444</td>\n",
       "      <td>33.348090</td>\n",
       "      <td>36.163889</td>\n",
       "      <td>NaN</td>\n",
       "      <td>39.316667</td>\n",
       "      <td>42.452778</td>\n",
       "      <td>42.811979</td>\n",
       "    </tr>\n",
       "    <tr>\n",
       "      <td>January</td>\n",
       "      <td>29.164931</td>\n",
       "      <td>24.164236</td>\n",
       "      <td>30.347049</td>\n",
       "      <td>32.256424</td>\n",
       "      <td>40.258160</td>\n",
       "      <td>46.288368</td>\n",
       "      <td>50.621528</td>\n",
       "      <td>53.129167</td>\n",
       "      <td>55.995486</td>\n",
       "      <td>70.305382</td>\n",
       "      <td>...</td>\n",
       "      <td>44.615972</td>\n",
       "      <td>42.430903</td>\n",
       "      <td>34.665217</td>\n",
       "      <td>25.631845</td>\n",
       "      <td>20.325463</td>\n",
       "      <td>18.520833</td>\n",
       "      <td>18.445833</td>\n",
       "      <td>20.455556</td>\n",
       "      <td>21.141667</td>\n",
       "      <td>NaN</td>\n",
       "    </tr>\n",
       "    <tr>\n",
       "      <td>February</td>\n",
       "      <td>NaN</td>\n",
       "      <td>NaN</td>\n",
       "      <td>NaN</td>\n",
       "      <td>NaN</td>\n",
       "      <td>NaN</td>\n",
       "      <td>NaN</td>\n",
       "      <td>NaN</td>\n",
       "      <td>NaN</td>\n",
       "      <td>NaN</td>\n",
       "      <td>NaN</td>\n",
       "      <td>...</td>\n",
       "      <td>51.525000</td>\n",
       "      <td>54.693403</td>\n",
       "      <td>58.366319</td>\n",
       "      <td>66.585069</td>\n",
       "      <td>55.267014</td>\n",
       "      <td>44.114236</td>\n",
       "      <td>41.606944</td>\n",
       "      <td>30.350000</td>\n",
       "      <td>NaN</td>\n",
       "      <td>NaN</td>\n",
       "    </tr>\n",
       "  </tbody>\n",
       "</table>\n",
       "<p>3 rows × 31 columns</p>\n",
       "</div>"
      ],
      "text/plain": [
       "DayofMonth         1          2          3          4          5          6   \\\n",
       "Month                                                                          \n",
       "December    21.873007  22.879514  17.998090  27.684375  32.351326  36.848785   \n",
       "January     29.164931  24.164236  30.347049  32.256424  40.258160  46.288368   \n",
       "February          NaN        NaN        NaN        NaN        NaN        NaN   \n",
       "\n",
       "DayofMonth         7          8          9          10  ...         22  \\\n",
       "Month                                                   ...              \n",
       "December    35.526215  39.757609  43.062292  46.683333  ...  35.670455   \n",
       "January     50.621528  53.129167  55.995486  70.305382  ...  44.615972   \n",
       "February          NaN        NaN        NaN        NaN  ...  51.525000   \n",
       "\n",
       "DayofMonth         23         24         25         26         27         28  \\\n",
       "Month                                                                          \n",
       "December    32.675174  31.512674  32.694444  33.348090  36.163889        NaN   \n",
       "January     42.430903  34.665217  25.631845  20.325463  18.520833  18.445833   \n",
       "February    54.693403  58.366319  66.585069  55.267014  44.114236  41.606944   \n",
       "\n",
       "DayofMonth         29         30         31  \n",
       "Month                                        \n",
       "December    39.316667  42.452778  42.811979  \n",
       "January     20.455556  21.141667        NaN  \n",
       "February    30.350000        NaN        NaN  \n",
       "\n",
       "[3 rows x 31 columns]"
      ]
     },
     "execution_count": 78,
     "metadata": {},
     "output_type": "execute_result"
    }
   ],
   "source": [
    "date_month_field = pd.crosstab(pm25_secfield['Month'], pm25_secfield['DayofMonth'], pm25_secfield['PM2.5avg'], aggfunc=np.mean)\n",
    "month_namef=pd.date_range('2019-12','2020-02', freq='MS').strftime(\"%B\").tolist()\n",
    "date_month_field = date_month_field.reindex(month_namef)\n",
    "\n",
    "date_month_field"
   ]
  },
  {
   "cell_type": "code",
   "execution_count": 57,
   "metadata": {
    "scrolled": true
   },
   "outputs": [
    {
     "data": {
      "image/png": "[encoded data removed]",
      "text/plain": [
       "<Figure size 864x432 with 3 Axes>"
      ]
     },
     "metadata": {
      "needs_background": "light"
     },
     "output_type": "display_data"
    }
   ],
   "source": [
    "colors = ['green', 'orange','red']\n",
    "levels = [0, 35.4, 55.4]\n",
    "cmap, norm = mpl.colors.from_levels_and_colors(levels,colors,'max')\n",
    "\n",
    "fig = plt.figure(figsize= (12,6))\n",
    "# make a grid space for each subplot\n",
    "gs = GridSpec(1,10)\n",
    "# plot the first heatmap for 2017 data\n",
    "ax1 = fig.add_subplot(gs[0:4])\n",
    "sns.heatmap(date_month_2018, cmap=cmap, norm=norm, linewidth=0.05,vmax=70, cbar=False, ax=ax1)\n",
    "ax1.yaxis.label.set_visible(False)\n",
    "plt.title('2018')\n",
    "plt.xlabel('day of month')\n",
    "\n",
    "# plot the first heatmap for 2018 data\n",
    "ax2 = fig.add_subplot(gs[4:8])\n",
    "ax2 = sns.heatmap(date_month_2019, cmap=cmap, norm=norm, linewidth=0.05,vmax=70, cbar=False)\n",
    "plt.title('2019')\n",
    "plt.xlabel('day of month')\n",
    "ax2.get_yaxis().set_visible(False)\n",
    "\n",
    "# plot monthly average as a horizontal side bar, and color coded them\n",
    "\"\"\"ax3 = fig.add_subplot(gs[8])\n",
    "monthavg = pm25_sel[['Month','PM2.5avg']].groupby('Month').mean()\n",
    "monthavg = monthavg.reindex(reversed(month_name))\n",
    "monthavg['color'] = pd.cut(monthavg['PM2.5avg'],bins = [0, 35.5, 55.5, 150.4], \n",
    "                       labels=['green', 'orange','red'],\n",
    "                      include_lowest=True, right=False).astype(str)\n",
    "monthavg.plot(y='PM2.5avg', kind='barh',color = monthavg['color'], legend=False, ax=ax3,\n",
    "             edgecolor='black')\n",
    "ax3.get_yaxis().set_visible(False)\n",
    "plt.title('monthly \\n average')\"\"\"\n",
    "\n",
    "# plot the colorbar on the further right\n",
    "cmap2 = mpl.colors.ListedColormap(colors=['green','orange','red'])\n",
    "ax4 = fig.add_subplot(gs[8])\n",
    "ax4.set_aspect(30)\n",
    "cbar = mpl.colorbar.ColorbarBase(cmap=cmap2, ax=ax4)\n",
    "cbar.set_ticks([0.2, 0.5, 0.8])\n",
    "cbar.set_ticklabels(['satisfactory', 'moderate', 'unhealthy'])\n",
    "cbar.set_label('PM 2.5 level')\n",
    "\n",
    "plt.tight_layout()"
   ]
  },
  {
   "cell_type": "code",
   "execution_count": 58,
   "metadata": {},
   "outputs": [],
   "source": [
    "fig.savefig('C:\\\\Users\\\\chath\\\\Desktop\\\\figouts\\\\Dailyavg1819.png')"
   ]
  },
  {
   "cell_type": "code",
   "execution_count": 80,
   "metadata": {},
   "outputs": [
    {
     "data": {
      "image/png": "[encoded data removed]",
      "text/plain": [
       "<Figure size 792x432 with 3 Axes>"
      ]
     },
     "metadata": {
      "needs_background": "light"
     },
     "output_type": "display_data"
    }
   ],
   "source": [
    "colors = ['green', 'orange','red']\n",
    "levels = [0, 35.4, 55.4]\n",
    "cmap, norm = mpl.colors.from_levels_and_colors(levels,colors,'max')\n",
    "\n",
    "fig = plt.figure(figsize= (11,6))\n",
    "# make a grid space for each subplot\n",
    "gs = GridSpec(1,6)\n",
    "# plot the first heatmap for 2017 data\n",
    "ax1 = fig.add_subplot(gs[0:4])\n",
    "sns.heatmap(date_month_field, cmap=cmap, norm=norm, linewidth=0.05,vmax=70, cbar=False, ax=ax1)\n",
    "ax1.yaxis.label.set_visible(False)\n",
    "plt.title('2019 Dec to 2020 Feb')\n",
    "plt.xlabel('day of month')\n",
    "\n",
    "ax2 = fig.add_subplot(gs[4])\n",
    "monthavg = pm25_secfield[['Month','PM2.5avg']].groupby('Month').mean()\n",
    "monthavg = monthavg.reindex(reversed(month_namef))\n",
    "monthavg['color'] = pd.cut(monthavg['PM2.5avg'],bins = [0, 35.5, 55.5, 150.4], \n",
    "                       labels=['green', 'orange','red'],\n",
    "                      include_lowest=True, right=False).astype(str)\n",
    "monthavg.plot(y='PM2.5avg', kind='barh',color = monthavg['color'], legend=False, ax=ax2,\n",
    "             edgecolor='black')\n",
    "ax2.get_yaxis().set_visible(False)\n",
    "plt.title('monthly \\n average')\n",
    "\n",
    "# plot the colorbar on the further right\n",
    "cmap2 = mpl.colors.ListedColormap(colors=['green','orange','red'])\n",
    "ax4 = fig.add_subplot(gs[5])\n",
    "ax4.set_aspect(30)\n",
    "cbar = mpl.colorbar.ColorbarBase(cmap=cmap2, ax=ax4)\n",
    "cbar.set_ticks([0.2, 0.5, 0.8])\n",
    "cbar.set_ticklabels(['satisfactory', 'moderate', 'unhealthy'])\n",
    "cbar.set_label('PM 2.5 level')\n",
    "\n",
    "#plt.tight_layout()"
   ]
  },
  {
   "cell_type": "code",
   "execution_count": 81,
   "metadata": {},
   "outputs": [],
   "source": [
    "fig.savefig('C:\\\\Users\\\\chath\\\\Desktop\\\\figouts\\\\fielddailyavg1819.png')"
   ]
  },
  {
   "cell_type": "code",
   "execution_count": null,
   "metadata": {},
   "outputs": [],
   "source": []
  }
 ],
 "metadata": {
  "kernelspec": {
   "display_name": "Python 3",
   "language": "python",
   "name": "python3"
  },
  "language_info": {
   "codemirror_mode": {
    "name": "ipython",
    "version": 3
   },
   "file_extension": ".py",
   "mimetype": "text/x-python",
   "name": "python",
   "nbconvert_exporter": "python",
   "pygments_lexer": "ipython3",
   "version": "3.7.4"
  }
 },
 "nbformat": 4,
 "nbformat_minor": 2
}

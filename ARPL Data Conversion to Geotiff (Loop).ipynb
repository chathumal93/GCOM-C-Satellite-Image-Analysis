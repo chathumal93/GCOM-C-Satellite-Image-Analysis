{
 "cells": [
  {
   "cell_type": "code",
   "execution_count": 1,
   "metadata": {},
   "outputs": [],
   "source": [
    "import os\n",
    "from os import listdir\n",
    "import time\n",
    "import h5py as h5\n",
    "import numpy as np\n",
    "from osgeo import gdal\n",
    "from osgeo import gdal_array\n",
    "from osgeo import osr\n",
    "import pandas\n",
    "import scipy\n",
    "from scipy import interpolate\n",
    "from scipy.interpolate import griddata\n"
   ]
  },
  {
   "cell_type": "code",
   "execution_count": 2,
   "metadata": {
    "scrolled": true
   },
   "outputs": [],
   "source": [
    "#execution time\n",
    "start_time = time.time()\n",
    "\n",
    "# Define Input data path and output file path\n",
    "path = 'D:/GIC_2020/01_GCOM_C/002_Data/04_timeseriesanalysis/ARPL/data/'\n",
    "outpath = 'D:/GIC_2020/01_GCOM_C/002_Data/04_timeseriesanalysis/results/ARPL_AOT_1D_Feb/ARPL_AOT_1D_Feb_CM/'\n",
    "\n",
    "#choose product name\n",
    "product_name = \"AROT_pol_land\""
   ]
  },
  {
   "cell_type": "code",
   "execution_count": 3,
   "metadata": {},
   "outputs": [],
   "source": [
    "#Define resolution of the raster\n",
    "resolution = 0.008333334\n",
    "\n",
    "def open_img_data(img_path,flag_num,h_tile, v_tile,img_nlines,img_npixels,reso):\n",
    "    f = h5.File(img_path, \"r\")\n",
    "    dset = f['/Image_data/'+ product_name]\n",
    "    ARPL_DN_data = dset[:]\n",
    "    #Take imge data calculated with slope and offset data\n",
    "    invalid_val = np.NaN\n",
    "    slope = dset.attrs['Slope'][0]\n",
    "    offset = dset.attrs['Offset'][0]\n",
    "    err_dn = dset.attrs['Error_DN'][0]\n",
    "    min_dn = dset.attrs['Minimum_valid_DN'][0]\n",
    "    max_dn = dset.attrs['Maximum_valid_DN'][0]\n",
    "    PR_data = ARPL_DN_data * slope + offset\n",
    "    PR_data[ARPL_DN_data == err_dn] = invalid_val\n",
    "    PR_data[(ARPL_DN_data < min_dn) | ( ARPL_DN_data > max_dn)] = invalid_val\n",
    "    #Take cloud masked image data\n",
    "    flag_val = np.sum(np.power(2, np.array(flag_num, dtype=np.uint32)))\n",
    "    qa_flag_dataset_name = [name for name in f['/Image_data'].keys() if 'QA_flag'in name][0]\n",
    "    qa_flag_data = f['Image_data/' + qa_flag_dataset_name][:]\n",
    "    qa_flag_data = np.bitwise_and(qa_flag_data, flag_val).astype(np.bool)\n",
    "\n",
    "    New_PR_data = np.zeros((img_nlines, img_npixels))\n",
    "    for r in range(0,img_nlines):\n",
    "        for y in range(0,img_npixels):\n",
    "            if qa_flag_data[r][y] ==True:\n",
    "                New_PR_data[r][y] = float(\"nan\")\n",
    "            else:\n",
    "                New_PR_data[r][y] = PR_data[r][y]\n",
    "    \n",
    "    #getting long,lat data            \n",
    "    u, v = np.meshgrid(np.arange(0, img_npixels), np.arange(0, img_nlines))\n",
    "    lat = 90. - (v_tile * img_nlines + v + 0.5) * reso\n",
    "    lon = ((h_tile * img_npixels + u + 0.5) * reso - 180.) / np.cos(np.deg2rad(lat))\n",
    "    lon[(lon < -180) | (lon > 180)] = np.NaN\n",
    "    lat[np.isnan(lon)] = np.NaN\n",
    "\n",
    "    return New_PR_data,lon,lat\n",
    "\n",
    "\n",
    "\n"
   ]
  },
  {
   "cell_type": "code",
   "execution_count": 4,
   "metadata": {},
   "outputs": [],
   "source": [
    "#Getting the data list\n",
    "list = os.listdir(path)\n",
    "\n",
    "for i in range(0,len(list)):\n",
    "    \n",
    "    file_name = (str(list[i]).split('.'))[0]\n",
    "    PR_data,longitude,latitude= open_img_data(path + str(list[i]) ,2,27,7,1200,1200,resolution)\n",
    "\n",
    "    lati=np.ravel(latitude)\n",
    "    long=np.ravel(longitude)\n",
    "    Data=np.ravel(PR_data)\n",
    "    Data[np.isnan(Data)] = float(\"nan\")\n",
    "    df = pandas.DataFrame(\n",
    "        { 'Data':Data,\n",
    "          'Lon': long,\n",
    "          'Lat': lati,\n",
    "             })\n",
    "    arrD = np.asarray(df.Data)\n",
    "    arrlon = np.asarray(df.Lon)\n",
    "    arrlat = np.asarray(df.Lat)\n",
    "\n",
    "    #Interpolating the data to a grid (linear)\n",
    "    from scipy.interpolate import griddata\n",
    "    grid_yy = np.arange(arrlat.min(),arrlat.max(),resolution)\n",
    "    grid_xx = np.arange(arrlon.min(),arrlon.max(),resolution)\n",
    "\n",
    "    grid_x,grid_y = np.meshgrid(grid_xx, grid_yy)\n",
    "    g=grid_y[::-1]\n",
    "    grid_z0 = griddata((arrlon[:],arrlat[:]), Data, (grid_x,g), method='linear', fill_value= float(\"nan\"))\n",
    "\n",
    "    #write Grid data into a raster\n",
    "    image_data = grid_z0\n",
    "    nrows = int(((arrlat.max()-arrlat.min())/resolution)+1)\n",
    "    ncols = int(((arrlon.max()-arrlon.min())/resolution)+1)\n",
    "\n",
    "    geotransform=([arrlon.min(),resolution,0,arrlat.max(),0, -resolution])   \n",
    "    # That's (top left x, w-e pixel resolution, rotation (0 if North is up), top left y, rotation (0 if North is up), n-s pixel resolution)\n",
    "\n",
    "\n",
    "    output_raster = gdal.GetDriverByName('GTiff').Create(outpath+ file_name +'.tif',ncols, nrows, 1 ,gdal.GDT_Float64)  # Open the file\n",
    "    output_raster.SetGeoTransform(geotransform)  \n",
    "    srs = osr.SpatialReference()                \n",
    "    srs.ImportFromEPSG(4326)                                                                                                         \n",
    "    output_raster.SetProjection( srs.ExportToWkt() )  \n",
    "    output_raster.GetRasterBand(1).WriteArray(image_data) \n",
    "    output_raster.FlushCache()"
   ]
  },
  {
   "cell_type": "code",
   "execution_count": 5,
   "metadata": {},
   "outputs": [
    {
     "name": "stdout",
     "output_type": "stream",
     "text": [
      "--- 959.4345183372498 seconds ---\n"
     ]
    }
   ],
   "source": [
    "print(\"--- %s seconds ---\" % (time.time() - start_time))\n"
   ]
  }
 ],
 "metadata": {
  "kernelspec": {
   "display_name": "Python 3",
   "language": "python",
   "name": "python3"
  },
  "language_info": {
   "codemirror_mode": {
    "name": "ipython",
    "version": 3
   },
   "file_extension": ".py",
   "mimetype": "text/x-python",
   "name": "python",
   "nbconvert_exporter": "python",
   "pygments_lexer": "ipython3",
   "version": "3.7.4"
  }
 },
 "nbformat": 4,
 "nbformat_minor": 2
}
